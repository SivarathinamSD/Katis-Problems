{
 "cells": [
  {
   "cell_type": "code",
   "execution_count": null,
   "id": "76bdbde2",
   "metadata": {},
   "outputs": [
    {
     "name": "stdout",
     "output_type": "stream",
     "text": [
      "6 4 2\n",
      "4 6 2\n"
     ]
    }
   ],
   "source": [
    "a , b , c = input().split(' ')\n",
    "a , b , c = int(a), int(b), int (c)\n",
    "    \n",
    "if (b > c and b > a):\n",
    "    if (c < b):\n",
    "        temp = c\n",
    "        c = b\n",
    "        b = temp\n",
    "\n",
    "\n",
    "if (a > b and a > c):\n",
    "    if (a > b):\n",
    "        temp = a\n",
    "        a = b\n",
    "        b = temp\n",
    "    elif(a > c):\n",
    "        temp = c\n",
    "        c = a\n",
    "        a = temp\n",
    "\n",
    "            \n",
    "print(a,b,c)\n",
    "order = input()\n",
    "for i in range(len(order)):\n",
    "               \n",
    "            if order[0] == 'B':\n",
    "                   a = b\n",
    "            elif order[0] == 'c':\n",
    "                   a = c\n",
    "            \n",
    "print(a,b,c)"
   ]
  },
  {
   "cell_type": "code",
   "execution_count": null,
   "id": "6e13a0c4",
   "metadata": {},
   "outputs": [],
   "source": []
  },
  {
   "cell_type": "code",
   "execution_count": null,
   "id": "5bebec83",
   "metadata": {},
   "outputs": [],
   "source": []
  }
 ],
 "metadata": {
  "kernelspec": {
   "display_name": "Python 3 (ipykernel)",
   "language": "python",
   "name": "python3"
  },
  "language_info": {
   "codemirror_mode": {
    "name": "ipython",
    "version": 3
   },
   "file_extension": ".py",
   "mimetype": "text/x-python",
   "name": "python",
   "nbconvert_exporter": "python",
   "pygments_lexer": "ipython3",
   "version": "3.9.13"
  }
 },
 "nbformat": 4,
 "nbformat_minor": 5
}
